{
 "cells": [
  {
   "cell_type": "code",
   "execution_count": null,
   "metadata": {},
   "outputs": [],
   "source": [
    "%load_ext autoreload\n",
    "%autoreload 2\n",
    "\n",
    "import numpy as np\n",
    "import pandas as pd\n",
    "import seaborn as sns\n",
    "\n",
    "import matplotlib.pyplot as plt\n",
    "import matplotlib.dates as mdates\n",
    "%matplotlib inline\n",
    "\n",
    "palette = sns.color_palette()\n",
    "\n",
    "plt.rcParams[\"axes.facecolor\"] = \"lightgrey\"\n",
    "plt.rcParams[\"axes.edgecolor\"] = \"white\"\n",
    "plt.rcParams[\"axes.grid\"] = True\n",
    "plt.rcParams[\"grid.alpha\"] = 1\n",
    "plt.rcParams[\"grid.color\"] = \"#cccccc\"\n",
    "plt.rcParams[\"grid.linestyle\"] = \"--\"\n",
    "plt.rcParams[\"savefig.pad_inches\"] = 0.2\n",
    "\n",
    "import src.read_data"
   ]
  },
  {
   "cell_type": "code",
   "execution_count": null,
   "metadata": {},
   "outputs": [],
   "source": [
    "df = src.read_data.get_df()\n",
    "df.head()"
   ]
  },
  {
   "cell_type": "code",
   "execution_count": null,
   "metadata": {},
   "outputs": [],
   "source": [
    "df['Atm'].unique()"
   ]
  },
  {
   "cell_type": "code",
   "execution_count": null,
   "metadata": {},
   "outputs": [],
   "source": [
    "ts = df.set_index('ProcessDate')\n",
    "ts.head()"
   ]
  },
  {
   "cell_type": "code",
   "execution_count": null,
   "metadata": {},
   "outputs": [],
   "source": [
    "for name, gr in ts.groupby('Atm'):\n",
    "\n",
    "    fig, ax = plt.subplots(figsize=(12, 6), dpi=300)\n",
    "    fig.suptitle(f\"{name}\", fontsize=30)\n",
    "    fig.patch.set_alpha(1)\n",
    "\n",
    "    gr.hist(bins=50, ax=ax)\n",
    "\n",
    "    fig.savefig(\n",
    "        f\"./pics/by_atm/hist_{name}.png\",\n",
    "        bbox_inches=\"tight\",\n",
    "        pad_inches=1,\n",
    "        transparent=False,\n",
    "    )\n",
    "    plt.close()"
   ]
  },
  {
   "cell_type": "markdown",
   "metadata": {},
   "source": [
    "## time gaps"
   ]
  },
  {
   "cell_type": "code",
   "execution_count": null,
   "metadata": {},
   "outputs": [],
   "source": [
    "data = []\n",
    "indices = []\n",
    "for name, gr in ts.groupby('Atm'):\n",
    "\n",
    "    all = pd.Series(data=pd.date_range(start=gr.index.min(), end=gr.index.max(), freq='D'))\n",
    "    mask = all.isin(gr.index)\n",
    "    gaps = all[~mask]\n",
    "    # print(name, gaps.shape[0])\n",
    "    data.append(gaps.shape[0])\n",
    "    indices.append(name)\n",
    "    # print()\n",
    "\n",
    "df_gaps = pd.DataFrame(data=data, index=indices, columns=['missing days'])\n",
    "print(df_gaps.to_markdown())"
   ]
  },
  {
   "cell_type": "code",
   "execution_count": null,
   "metadata": {},
   "outputs": [],
   "source": [
    "df_pw = pd.DataFrame(index=np.arange(7))\n",
    "for name, gr in ts.groupby('Atm'):\n",
    "\n",
    "    all = pd.Series(data=pd.date_range(start=gr.index.min(), end=gr.index.max(), freq='D'))\n",
    "    mask = all.isin(gr.index)\n",
    "    gaps = all[~mask]\n",
    "    df_pw[name] = gaps.groupby(gaps.dt.weekday).agg(['count'])\n",
    "    # print(gaps.groupby(gaps.dt.weekday).agg(['count']))\n",
    "\n",
    "print(df_pw.to_markdown())"
   ]
  },
  {
   "cell_type": "markdown",
   "metadata": {},
   "source": [
    "## Filling missing date"
   ]
  },
  {
   "cell_type": "code",
   "execution_count": null,
   "metadata": {},
   "outputs": [],
   "source": [
    "\n",
    "print(ts.index.min(), ts.index.max())"
   ]
  },
  {
   "cell_type": "code",
   "execution_count": null,
   "metadata": {},
   "outputs": [],
   "source": [
    "atm_df = pd.DataFrame(index=pd.date_range(start=ts.index.min(), end=ts.index.max(), freq='D'))\n",
    "for name, gr in ts.groupby('Atm'):\n",
    "    atm_df[name] = gr['Withdrawal']\n",
    "\n",
    "atm_df = atm_df.replace(np.nan, 0)\n",
    "atm_df = atm_df.astype(int)\n",
    "atm_df.head()"
   ]
  },
  {
   "cell_type": "markdown",
   "metadata": {},
   "source": [
    "## Histograms"
   ]
  },
  {
   "cell_type": "code",
   "execution_count": null,
   "metadata": {},
   "outputs": [],
   "source": [
    "fig, ax = plt.subplots(figsize=(12, 6), dpi=450)\n",
    "fig.patch.set_alpha(1)\n",
    "ax.set_facecolor('white')\n",
    "\n",
    "for name in atm_df.columns:\n",
    "    atm_df[name].hist(bins=50, log=True, alpha=0.5, ax=ax, label=name)\n",
    "\n",
    "plt.legend()\n",
    "\n",
    "fig.savefig(\n",
    "    f\"./pics/by_atm/hist.png\",\n",
    "    bbox_inches=\"tight\",\n",
    "    pad_inches=1,\n",
    "    transparent=False,\n",
    ")\n",
    "plt.close()"
   ]
  },
  {
   "cell_type": "code",
   "execution_count": null,
   "metadata": {},
   "outputs": [],
   "source": [
    "years = sorted(set(d.year for d in df['ProcessDate']))\n",
    "years"
   ]
  },
  {
   "cell_type": "code",
   "execution_count": null,
   "metadata": {},
   "outputs": [],
   "source": [
    "month_order = [\n",
    "    \"January\",\n",
    "    \"February\",\n",
    "    \"March\",\n",
    "    \"April\",\n",
    "    \"May\",\n",
    "    \"June\",\n",
    "    \"July\",\n",
    "    \"August\",\n",
    "    \"September\",\n",
    "    \"October\",\n",
    "    \"November\",\n",
    "    \"December\",\n",
    "]"
   ]
  },
  {
   "cell_type": "code",
   "execution_count": null,
   "metadata": {},
   "outputs": [],
   "source": [
    "fig, ax = plt.subplots(figsize=(24, 12), dpi=600)\n",
    "fig.suptitle(f\"Month distribution\", fontsize=20)\n",
    "fig.patch.set_alpha(1)\n",
    "ax.set_facecolor('white')\n",
    "\n",
    "\n",
    "for i, atm in enumerate(atm_df.columns):\n",
    "    tsk = atm_df[atm]\n",
    "    tsk = tsk.groupby(tsk.index.month_name().rename(\"month\")).agg(\n",
    "        [\"min\", \"mean\", \"max\"]\n",
    "    )\n",
    "    tsk = tsk.reindex(index=month_order)\n",
    "\n",
    "    ax.fill_between(\n",
    "        tsk.index, tsk[\"min\"], tsk[\"max\"], alpha=0.15, color=palette[i]\n",
    "    )\n",
    "    ax.plot(\n",
    "        tsk.index,\n",
    "        tsk[\"mean\"],\n",
    "        linewidth=3,\n",
    "        color=palette[i],\n",
    "        label=f\"{atm}\",\n",
    "    )\n",
    "\n",
    "ax.set_xlabel(\"month\")\n",
    "ax.set_ylabel(\"Withdrawal\")\n",
    "# ax.set_title(\" \".join([str(k) for k in keys]))\n",
    "\n",
    "ax.legend()\n",
    "# print(keys)\n",
    "\n",
    "fig.savefig(\n",
    "    f\"./pics/ts_by_month.png\",\n",
    "    bbox_inches=\"tight\",\n",
    "    pad_inches=1,\n",
    "    transparent=False,\n",
    ")\n",
    "plt.show()\n",
    "plt.close()"
   ]
  },
  {
   "cell_type": "code",
   "execution_count": null,
   "metadata": {},
   "outputs": [],
   "source": [
    "fig, ax = plt.subplots(figsize=(24, 12), dpi=600)\n",
    "fig.suptitle(f\"Year distribution\", fontsize=20)\n",
    "fig.patch.set_alpha(1)\n",
    "ax.set_facecolor('white')\n",
    "\n",
    "for i, atm in enumerate(atm_df.columns):\n",
    "    tsk = atm_df[atm]\n",
    "    tsk = tsk.resample(\"1Y\").agg(\n",
    "        [\"min\", \"mean\", \"max\"]\n",
    "    )\n",
    "\n",
    "    ax.fill_between(\n",
    "        tsk.index, tsk[\"min\"], tsk[\"max\"], alpha=0.2, color=palette[i]\n",
    "    )\n",
    "\n",
    "    ax.plot(\n",
    "        tsk.index,\n",
    "        tsk[\"mean\"],\n",
    "        linewidth=3,\n",
    "        color=palette[i],\n",
    "        label=f\"{atm}\",\n",
    "    )\n",
    "\n",
    "ax.set_xlabel(\"Year\")\n",
    "ax.set_ylabel(\"Withdrawal\")\n",
    "# ax.set_title(\" \".join([str(k) for k in keys]))\n",
    "\n",
    "ax.legend()\n",
    "# print(keys)\n",
    "\n",
    "fig.savefig(\n",
    "    f\"./pics/ts_by_year.png\",\n",
    "    bbox_inches=\"tight\",\n",
    "    pad_inches=1,\n",
    "    transparent=False,\n",
    ")\n",
    "plt.show()\n",
    "plt.close()"
   ]
  },
  {
   "cell_type": "code",
   "execution_count": null,
   "metadata": {},
   "outputs": [],
   "source": [
    "fig, ax = plt.subplots(figsize=(24, 12), dpi=600)\n",
    "\n",
    "fig.patch.set_alpha(1)\n",
    "ax.set_facecolor('white')\n",
    "\n",
    "for i, atm in enumerate(atm_df.columns):\n",
    "    tsk = atm_df[atm]\n",
    "\n",
    "    ax.plot(\n",
    "        tsk.index,\n",
    "        tsk,\n",
    "        linewidth=3,\n",
    "        color=palette[i],\n",
    "        label=f\"{atm}\",\n",
    "    )\n",
    "\n",
    "ax.set_xlabel(\"Date\")\n",
    "ax.set_ylabel(\"Withdrawal\")\n",
    "# ax.set_title(\" \".join([str(k) for k in keys]))\n",
    "\n",
    "ax.legend()\n",
    "# print(keys)\n",
    "\n",
    "fig.savefig(\n",
    "    f\"./pics/ts_all_times.png\",\n",
    "    bbox_inches=\"tight\",\n",
    "    pad_inches=1,\n",
    "    transparent=False,\n",
    ")\n",
    "plt.show()\n",
    "plt.close()"
   ]
  },
  {
   "cell_type": "code",
   "execution_count": null,
   "metadata": {},
   "outputs": [],
   "source": [
    "fig, ax = plt.subplots(figsize=(24, 12), dpi=600)\n",
    "fig.suptitle(f\"Weekday distribution\", fontsize=20)\n",
    "fig.patch.set_alpha(1)\n",
    "ax.set_facecolor('white')\n",
    "\n",
    "for i, atm in enumerate(atm_df.columns):\n",
    "    tsk = atm_df[atm]\n",
    "    tsk = tsk.groupby(tsk.index.weekday).agg(\n",
    "        [\"min\", \"mean\", \"max\"]\n",
    "    )\n",
    "\n",
    "    ax.fill_between(\n",
    "        tsk.index, tsk[\"min\"], tsk[\"max\"], alpha=0.2, color=palette[i]\n",
    "    )\n",
    "    ax.plot(\n",
    "        tsk.index,\n",
    "        tsk[\"mean\"],\n",
    "        linewidth=3,\n",
    "        color=palette[i],\n",
    "        label=f\"{atm}\",\n",
    "    )\n",
    "\n",
    "ax.set_xlabel(\"WeekDay\")\n",
    "ax.set_ylabel(\"Withdrawal\")\n",
    "# ax.set_title(\" \".join([str(k) for k in keys]))\n",
    "\n",
    "ax.legend()\n",
    "\n",
    "\n",
    "fig.savefig(\n",
    "    f\"./pics/ts_by_weekday.png\",\n",
    "    bbox_inches=\"tight\",\n",
    "    pad_inches=1,\n",
    "    transparent=False,\n",
    ")\n",
    "plt.show()\n",
    "plt.close()"
   ]
  },
  {
   "cell_type": "code",
   "execution_count": null,
   "metadata": {},
   "outputs": [],
   "source": [
    "fig, ax = plt.subplots(figsize=(24, 12), dpi=600)\n",
    "fig.patch.set_alpha(1)\n",
    "ax.set_facecolor('white')\n",
    "\n",
    "atm_df.boxplot(ax=ax)\n",
    "\n",
    "ax.set_ylabel(\"Withdrawal\")\n",
    "# ax.set_title(\" \".join([str(k) for k in keys]))\n",
    "\n",
    "ax.legend()\n",
    "\n",
    "\n",
    "fig.savefig(\n",
    "    f\"./pics/boxplot.png\",\n",
    "    bbox_inches=\"tight\",\n",
    "    pad_inches=1,\n",
    "    transparent=False,\n",
    ")\n",
    "plt.show()\n",
    "plt.close()"
   ]
  },
  {
   "cell_type": "code",
   "execution_count": null,
   "metadata": {},
   "outputs": [],
   "source": [
    "for year in years:\n",
    "    for month in range(12):\n",
    "        fig, ax = plt.subplots(figsize=(24, 12), dpi=600)\n",
    "        fig.suptitle(f\"{' '.join([str(k) for k in atms])}\", fontsize=20)\n",
    "\n",
    "        _tsk = ts[(ts.index.year==year) & (ts.index.month==month)]\n",
    "\n",
    "        print(_tsk.head())\n",
    "        for i, atm in enumerate(atms):\n",
    "            tsk = _tsk[_tsk[\"Atm\"] == atm]\n",
    "\n",
    "            ax.plot(\n",
    "                tsk.index,\n",
    "                tsk[\"Withdrawal\"],\n",
    "                linewidth=3,\n",
    "                color=palette[i],\n",
    "                label=f\"{atm}\",\n",
    "            )\n",
    "\n",
    "        ax.set_xlabel(\"Date\")\n",
    "        ax.set_ylabel(\"Withdrawal\")\n",
    "        # ax.set_title(\" \".join([str(k) for k in keys]))\n",
    "\n",
    "        ax.legend()\n",
    "        # print(keys)\n",
    "\n",
    "        fig.savefig(\n",
    "            f\"./pics/ts_{year}_{month_order[month]}.png\",\n",
    "            bbox_inches=\"tight\",\n",
    "            pad_inches=1,\n",
    "            transparent=False,\n",
    "        )\n",
    "        plt.show()\n",
    "        plt.close()"
   ]
  },
  {
   "cell_type": "code",
   "execution_count": null,
   "metadata": {},
   "outputs": [],
   "source": []
  }
 ],
 "metadata": {
  "interpreter": {
   "hash": "fa581286f0eeba6c4e713aac6f847f7fc6b224468a963007eaa326a54c321ff8"
  },
  "kernelspec": {
   "display_name": "Python 3.8.10 ('.venv': venv)",
   "language": "python",
   "name": "python3"
  },
  "language_info": {
   "codemirror_mode": {
    "name": "ipython",
    "version": 3
   },
   "file_extension": ".py",
   "mimetype": "text/x-python",
   "name": "python",
   "nbconvert_exporter": "python",
   "pygments_lexer": "ipython3",
   "version": "3.8.10"
  },
  "orig_nbformat": 4
 },
 "nbformat": 4,
 "nbformat_minor": 2
}
